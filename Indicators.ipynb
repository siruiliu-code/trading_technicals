{
 "cells": [
  {
   "cell_type": "code",
   "execution_count": 1,
   "metadata": {},
   "outputs": [],
   "source": [
    "import pandas as pd\n",
    "import numpy as np\n",
    "import matplotlib.pyplot as plt\n",
    "import yfinance as yf\n",
    "\n",
    "import warnings\n",
    "warnings.filterwarnings('ignore')"
   ]
  },
  {
   "cell_type": "code",
   "execution_count": 2,
   "metadata": {},
   "outputs": [],
   "source": [
    "def rsi_14_strategy(data):\n",
    "    data = data.copy() \n",
    "    data['Change'] = data['Close'].diff()\n",
    "\n",
    "    data['Gain'] = data['Change'].where(data['Change'] > 0, 0)\n",
    "    data['Loss'] = -data['Change'].where(data['Change'] < 0, 0)\n",
    "    \n",
    "    data['Average Gain'] = np.where(data.index < data.index[14], data['Gain'].rolling(window=14).mean(), np.nan)\n",
    "    data['Average Loss'] = np.where(data.index < data.index[14], data['Loss'].rolling(window=14).mean(), np.nan)\n",
    "\n",
    "    for i in range(14, len(data)):\n",
    "        data['Average Gain'].iloc[i] = (data['Average Gain'].iloc[i-1] * 13 + data['Gain'].iloc[i]) / 14\n",
    "        data['Average Loss'].iloc[i] = (data['Average Loss'].iloc[i-1] * 13 + data['Loss'].iloc[i]) / 14\n",
    "\n",
    "    data['RS'] = data['Average Gain'] / data['Average Loss']\n",
    "\n",
    "    data['RSI'] = (100 - (100/(1+data['RS'])))\n",
    "    data['RSI_action'] = np.where(data['RSI'] < 50, 1, np.where(data['RSI'] >= 50, -1,0))\n",
    "\n",
    "    return data[['RSI','RSI_action']]\n"
   ]
  },
  {
   "cell_type": "code",
   "execution_count": 3,
   "metadata": {},
   "outputs": [],
   "source": [
    "def ema(data, window):\n",
    "    data = data.copy()\n",
    "    \n",
    "    first_valid_index = data['Close'].first_valid_index()\n",
    "    if first_valid_index is not None:\n",
    "        initial_sma_position = data.index.get_loc(first_valid_index) + window - 1\n",
    "        if initial_sma_position < len(data):\n",
    "            initial_sma = data['Close'].rolling(window=window).mean().iloc[initial_sma_position]\n",
    "        else:\n",
    "            initial_sma = np.nan\n",
    "    else:\n",
    "        initial_sma = np.nan\n",
    "\n",
    "    multiplier = (2 / (window + 1))\n",
    "    \n",
    "    data[f'{window}ema'] = np.nan\n",
    "    \n",
    "    if not np.isnan(initial_sma):\n",
    "        data[f'{window}ema'].iloc[initial_sma_position] = initial_sma\n",
    "    \n",
    "        for i in range(initial_sma_position + 1, len(data)):\n",
    "            data[f'{window}ema'].iloc[i] = (data['Close'].iloc[i] - data[f'{window}ema'].iloc[i-1]) * multiplier + data[f'{window}ema'].iloc[i-1]\n",
    "    \n",
    "    return data[[f'{window}ema']]\n"
   ]
  },
  {
   "cell_type": "code",
   "execution_count": 4,
   "metadata": {},
   "outputs": [],
   "source": [
    "def ema_strategy(data):\n",
    "    data = data.copy()\n",
    "    ema_line = ema(data,9).copy()\n",
    "        \n",
    "    conditions = [\n",
    "        (data['Close'] > ema_line['9ema']) & (data['Close'].notna()) & (ema_line['9ema'].notna()),\n",
    "        (data['Close'] < ema_line['9ema']) & (data['Close'].notna()) & (ema_line['9ema'].notna())\n",
    "    ]\n",
    "\n",
    "    choices = [1, -1]\n",
    "\n",
    "    data['ema_strategy_action'] = np.select(conditions, choices, default=0)\n",
    "\n",
    "    return data[['ema_strategy_action']]"
   ]
  },
  {
   "cell_type": "code",
   "execution_count": 5,
   "metadata": {},
   "outputs": [],
   "source": [
    "def macd_strategy(data):\n",
    "    data = data.copy()\n",
    "\n",
    "    fastMA = ema(data, 12)\n",
    "    slowMA = ema(data, 26)\n",
    "    data['macd'] = fastMA['12ema'] - slowMA['26ema']\n",
    "\n",
    "    data['macd_action'] = np.where(data['macd'] < 0, -1, np.where(data['macd'] > 0, 1,0))\n",
    "\n",
    "    signal_data = data[['macd']].rename(columns={'macd': 'Close'})\n",
    "    signal_line = ema(signal_data, 9)\n",
    "\n",
    "    data['signal_line'] = signal_line['9ema']\n",
    "    data['macd_strategy_action'] = np.where(data['macd'] > data['signal_line'], 1, np.where(data['macd'] < data['signal_line'], -1,0))\n",
    "    \n",
    "    return data[['macd','macd_action','signal_line','macd_strategy_action']]\n"
   ]
  },
  {
   "cell_type": "code",
   "execution_count": 6,
   "metadata": {},
   "outputs": [],
   "source": [
    "def log_return_buy_hold(data):\n",
    "    data = data.copy()\n",
    "    data['log_return_buy_hold'] = np.log(data.Close / data.Close.shift())\n",
    "\n",
    "    return data[['log_return_buy_hold']]"
   ]
  },
  {
   "cell_type": "code",
   "execution_count": 7,
   "metadata": {},
   "outputs": [],
   "source": [
    "def data_consolidation(tickers): #tickers in a list\n",
    "    all_results = {}\n",
    "\n",
    "    for ticker in tickers:\n",
    "        data = yf.download(ticker, start='2010-01-01',)[['Close']]\n",
    "        results = data.copy()\n",
    "\n",
    "        ema_9 = ema(data, 9)\n",
    "        ema_strat = ema_strategy(data)\n",
    "        macd_strat = macd_strategy(data)\n",
    "        rsi_strat = rsi_14_strategy(data)\n",
    "        log_return_hold_strat = log_return_buy_hold(data)\n",
    "\n",
    "        log_return_ema_strategy = (ema_strat['ema_strategy_action'] * log_return_hold_strat['log_return_buy_hold']).to_frame('log_return_ema_strategy')\n",
    "        log_return_macd_strategy = (macd_strat['macd_strategy_action'] * log_return_hold_strat['log_return_buy_hold']).to_frame('log_return_macd_strategy')\n",
    "        log_return_rsi_strategy = (rsi_strat['RSI_action'] * log_return_hold_strat['log_return_buy_hold']).to_frame('log_return_rsi_strategy')\n",
    "\n",
    "        results = results.join([ema_9, ema_strat, macd_strat, rsi_strat, log_return_hold_strat, log_return_ema_strategy, log_return_macd_strategy, log_return_rsi_strategy])\n",
    "        all_results[ticker] = results\n",
    "\n",
    "    all_results_df = pd.concat(all_results, axis=1)\n",
    "    all_results_df.dropna(inplace=True)\n",
    "    \n",
    "    return all_results_df\n"
   ]
  },
  {
   "cell_type": "code",
   "execution_count": 8,
   "metadata": {},
   "outputs": [
    {
     "name": "stdout",
     "output_type": "stream",
     "text": [
      "[*********************100%%**********************]  1 of 1 completed\n",
      "[*********************100%%**********************]  1 of 1 completed\n",
      "[*********************100%%**********************]  1 of 1 completed\n",
      "[*********************100%%**********************]  1 of 1 completed\n",
      "(3440, 52)\n"
     ]
    }
   ],
   "source": [
    "tickers = ['AAPL', 'GOOG', 'LMT', 'NFLX']\n",
    "df = data_consolidation(tickers)\n",
    "print(df.shape)"
   ]
  },
  {
   "cell_type": "code",
   "execution_count": 9,
   "metadata": {},
   "outputs": [],
   "source": [
    "ticker_to_look = \"AAPL\"\n",
    "stock = df[ticker_to_look]"
   ]
  },
  {
   "cell_type": "code",
   "execution_count": 18,
   "metadata": {},
   "outputs": [
    {
     "data": {
      "image/png": "[encoded data removed]",
      "text/plain": [
       "<Figure size 640x480 with 1 Axes>"
      ]
     },
     "metadata": {},
     "output_type": "display_data"
    }
   ],
   "source": [
    "plt.plot(np.exp(stock['log_return_buy_hold']).cumprod(), label='Buy and Hold')\n",
    "plt.plot(np.exp(stock['log_return_ema_strategy']).cumprod(), label=\"EMA Strategy\")\n",
    "plt.plot(np.exp(stock['log_return_macd_strategy']).cumprod(), label = \"MACD Strategy\")\n",
    "plt.plot(np.exp(stock['log_return_rsi_strategy']).cumprod(), label = \"RSI Strategy\")\n",
    "plt.legend(loc=2)\n",
    "plt.title(\"Cumulative return of different trading strategies\")\n",
    "plt.grid(True, alpha=.3)"
   ]
  },
  {
   "cell_type": "code",
   "execution_count": null,
   "metadata": {},
   "outputs": [],
   "source": []
  }
 ],
 "metadata": {
  "kernelspec": {
   "display_name": "base",
   "language": "python",
   "name": "python3"
  },
  "language_info": {
   "codemirror_mode": {
    "name": "ipython",
    "version": 3
   },
   "file_extension": ".py",
   "mimetype": "text/x-python",
   "name": "python",
   "nbconvert_exporter": "python",
   "pygments_lexer": "ipython3",
   "version": "3.10.9"
  },
  "orig_nbformat": 4
 },
 "nbformat": 4,
 "nbformat_minor": 2
}
